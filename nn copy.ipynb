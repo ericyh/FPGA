{
 "cells": [
  {
   "cell_type": "code",
   "execution_count": 87,
   "metadata": {},
   "outputs": [],
   "source": [
    "import numpy as np\n",
    "import math as math\n",
    "from numpy.typing import NDArray\n",
    "import matplotlib.pyplot as plt\n",
    "import random\n",
    "from PIL import Image, ImageDraw, ImageFilter\n",
    "import numpy as np\n",
    "from scipy.ndimage import gaussian_filter\n",
    "import matplotlib.pyplot as plt\n",
    "import skimage.measure\n",
    "\n"
   ]
  },
  {
   "cell_type": "code",
   "execution_count": 88,
   "metadata": {},
   "outputs": [],
   "source": [
    "def dec2twocom(decimal_number):\n",
    "    decimal_number = math.floor(decimal_number*(2**12))\n",
    "    \n",
    "    if decimal_number < -33554432 or decimal_number > 33554431:\n",
    "        raise ValueError(\"Input out of 26-bit 2's complement range\")\n",
    "\n",
    "    if decimal_number < 0:\n",
    "        decimal_number = (1 << 26) + decimal_number\n",
    "    binary_str = format(decimal_number, '026b')\n",
    "\n",
    "    return binary_str\n"
   ]
  },
  {
   "cell_type": "code",
   "execution_count": 89,
   "metadata": {},
   "outputs": [
    {
     "data": {
      "text/plain": [
       "'00000000000000000000001100'"
      ]
     },
     "execution_count": 89,
     "metadata": {},
     "output_type": "execute_result"
    }
   ],
   "source": [
    "dec2twocom(0.003)\n"
   ]
  },
  {
   "cell_type": "code",
   "execution_count": 90,
   "metadata": {},
   "outputs": [],
   "source": [
    "n = 10000\n",
    "\n",
    "images = []\n",
    "labels = []\n",
    "for i in range(n):\n",
    "    width, height = 81, 81\n",
    "    image = Image.new(\"1\", (width, height), 0)\n",
    "    draw = ImageDraw.Draw(image)\n",
    "    x1, y1 = 0, random.randint(height//3, height//1.5)\n",
    "    x2, y2 = width-1, random.randint(height//3, height//1.5)\n",
    "    draw.line((x1, y1, x2, y2), fill=1 , width=1)\n",
    "    image.save(\"random_line_image.png\")\n",
    "    convolved_image = Image.open(r\"random_line_image.png\").convert('RGB')\n",
    "    rad = 10\n",
    "    convolved_image = convolved_image.filter(ImageFilter.GaussianBlur(radius=rad))   \n",
    "    convolved_image.save(\"convolved_image.png\")\n",
    "    convolved_array = 2.5*rad*np.array(convolved_image.convert('L'))\n",
    "    small_array = skimage.measure.block_reduce(convolved_array, (27,27), np.average)\n",
    "    # mean = 0\n",
    "    # var = 256\n",
    "    # sigma = var ** 0.5\n",
    "    # gauss = np.random.normal(mean, sigma, small_array.shape)\n",
    "    # gauss = gauss.reshape(small_array.shape)\n",
    "    # noisy = small_array + gauss\n",
    "    noisy = small_array\n",
    "    if random.randint(0,1) == 0:\n",
    "        images.append(np.array(noisy))\n",
    "        labels.append(0)\n",
    "    else:\n",
    "        images.append(np.transpose(np.array(noisy)))\n",
    "        labels.append(1)\n",
    "images = np.array(images)\n",
    "labels = np.array(labels)"
   ]
  },
  {
   "cell_type": "code",
   "execution_count": 91,
   "metadata": {},
   "outputs": [
    {
     "name": "stdout",
     "output_type": "stream",
     "text": [
      "[1 1 0 ... 1 0 1]\n"
     ]
    }
   ],
   "source": [
    "image_input = []\n",
    "for image in images:\n",
    "    x = list(np.floor(image.reshape(-1)/32))\n",
    "    x.append(1)\n",
    "    image_input.append(np.array(x))\n",
    "print(labels)"
   ]
  },
  {
   "cell_type": "code",
   "execution_count": 92,
   "metadata": {},
   "outputs": [],
   "source": [
    "split = 5000\n",
    "images_train = image_input[:split]\n",
    "images_test = image_input[split:]\n",
    "labels_train = labels[:split]\n",
    "labels_test = labels[split:]\n"
   ]
  },
  {
   "cell_type": "code",
   "execution_count": 148,
   "metadata": {},
   "outputs": [],
   "source": [
    "class nueron_layer2:\n",
    "    def __init__(self):\n",
    "        self.act_out = 0\n",
    "        self.lin_out = 0\n",
    "        self.weights = [random.uniform(0.01, 0.1) for _ in range(9)]\n",
    "    \n",
    "    def activation(self): # Implement Hard Sigmoid\n",
    "        return np.clip((self.lin_out + 1) / 2, 0, 1)\n",
    "        # print(self.lin_out + 1)\n",
    "        # return 0.8/(1 + math.exp(-self.lin_out))\n",
    "    \n",
    "    def forward_pass(self, input: np.array):#size 8 \n",
    "        self.lin_out = np.dot(input, self.weights)\n",
    "        self.act_out = self.activation()\n",
    "        "
   ]
  },
  {
   "cell_type": "code",
   "execution_count": 94,
   "metadata": {},
   "outputs": [],
   "source": [
    "class nueron_layer1:\n",
    "    def __init__(self):\n",
    "        self.act_out = 0\n",
    "        self.lin_out = 0\n",
    "        self.weights = [random.uniform(0.01, 0.1) for _ in range(10)]\n",
    "    \n",
    "    def activation(self): # Implement ReLu\n",
    "        return np.clip(self.lin_out, 0, None)\n",
    "    \n",
    "    def forward_pass(self, input: np.array):#size 1\n",
    "        self.lin_out = np.dot(input, self.weights)\n",
    "        self.act_out = self.activation()"
   ]
  },
  {
   "cell_type": "code",
   "execution_count": 95,
   "metadata": {},
   "outputs": [],
   "source": [
    "def der_hard_sigmoid(x):\n",
    "    if x > 1 or x < -1:\n",
    "        return 0\n",
    "    elif x > -1 and x < 1:\n",
    "        return 1/2\n",
    "\n",
    "    #return x*(1-x)\n",
    "\n",
    "def der_ReLu(x):\n",
    "\n",
    "    if x > 0 :\n",
    "        return 1\n",
    "    elif x < 0:\n",
    "        return 0\n"
   ]
  },
  {
   "cell_type": "code",
   "execution_count": 149,
   "metadata": {
    "tags": [
     "test"
    ]
   },
   "outputs": [],
   "source": [
    "class nn:\n",
    "\n",
    "    def __init__(self):\n",
    "        self.n2a = nueron_layer2()\n",
    "        self.n1 = [nueron_layer1() for i in range(8)]\n",
    "\n",
    "    def initalise_trainingdata(self, input:NDArray, labels_nn, lr, niter):\n",
    "        self.n = len(input)\n",
    "        self.input = input\n",
    "        self.labels = labels_nn\n",
    "        self.learning_rate = lr\n",
    "        self.niter = niter # number of iterations in one epoch\n",
    "\n",
    "    \n",
    "    def ForwardPassNueralNet(self, index=0):       \n",
    "        \n",
    "        \n",
    "        for i in range(8):      \n",
    "            self.n1[i].forward_pass(np.array(self.input[index]))\n",
    "        n2a_input = [j.act_out for j in self.n1]        \n",
    "        n2a_input.append(1)\n",
    "        \n",
    "        self.n2a.forward_pass(input=n2a_input)\n",
    "\n",
    "\n",
    "    def gradient_calc(self): \n",
    "    \n",
    "    # Square Loss ~ (output[i] - label[i])**2 ~ Is The Loss Function \n",
    "\n",
    "        \n",
    "        gradient_vector = np.zeros(8*10+9) # first 9 are parameters related to the only nueron in nueron layer 2\n",
    "                                    \n",
    "        assert(len(self.labels) == len(self.input))\n",
    "        for i in range(len(self.input)):\n",
    "            self.ForwardPassNueralNet(i)\n",
    "           \n",
    "            for param in range(8):\n",
    "                gradient_vector[param] += 2*(self.n2a.act_out - self.labels[i])*der_hard_sigmoid(self.n2a.lin_out)*self.n1[param].act_out   \n",
    "            gradient_vector[8] += 2*(self.n2a.act_out - self.labels[i])*der_hard_sigmoid(self.n2a.lin_out)*1 # for the bias term\n",
    "            \n",
    "            for row in range(8):\n",
    "                for col in range(10):\n",
    "                    gradient_vector[9+row*10+col] += 2*(self.n2a.act_out - self.labels[i])*der_hard_sigmoid(self.n2a.lin_out)*self.n2a.weights[row]*der_ReLu(self.n1[row].lin_out)*self.input[i][col]\n",
    "        return gradient_vector\n",
    "        \n",
    "    \n",
    "\n",
    "    def gradient_descent(self):\n",
    "\n",
    "\n",
    "        for _ in range(self.niter):\n",
    "            gradients = self.gradient_calc()\n",
    "            \n",
    "            vec1 = self.n2a.weights\n",
    "            vec2 = np.array([self.n1[i].weights for i in range(len(self.n1))])\n",
    "            \n",
    "            weight_vec = np.concatenate((vec1, vec2.reshape(-1)))           \n",
    "            \n",
    "            new_weight_vec = weight_vec - self.learning_rate*gradients\n",
    "            assert(len(new_weight_vec) == 89)\n",
    "            \n",
    "            #assign the updates weights now:\n",
    "            self.n2a.weights = np.array(new_weight_vec[0:9])\n",
    "            for row in range(8):\n",
    "                for col in range(10):\n",
    "                    self.n1[row].weights[col] = weight_vec[9 + 10*row + col]\n",
    "                    \n",
    "            \n",
    "\n",
    "    def calc_loss(self):\n",
    "        output = []\n",
    "        # first 8 are parameters related to the only nueron in nueron layer 2\n",
    "        # last 8 are parameters related to the 8 nueron in nueron layer 1\n",
    "        \n",
    "        for i in range(len(self.input)):\n",
    "            self.ForwardPassNueralNet(i)\n",
    "            output.append(self.n2a.act_out)\n",
    "        \n",
    "            print((self.labels[i], output[i]))\n",
    "        return sum([(self.labels[i] - output[i])**2 for i in range(len(output))])\n",
    "    \n",
    "\n",
    "    \n",
    "\n",
    "        \n",
    "\n"
   ]
  },
  {
   "cell_type": "code",
   "execution_count": 152,
   "metadata": {},
   "outputs": [],
   "source": [
    "my_nn = nn()\n",
    "\n",
    "for _ in range(5):\n",
    "    batch_size = 10\n",
    "    n_ters = 500\n",
    "    for row in range(n_ters):\n",
    "        my_nn.initalise_trainingdata(images_train[row*10:(row+1)*10], labels_train[row*10:(row+1)*10],lr= 0.001, niter=1)\n",
    "        \n",
    "        my_nn.gradient_descent()\n",
    "\n"
   ]
  },
  {
   "cell_type": "code",
   "execution_count": 164,
   "metadata": {},
   "outputs": [
    {
     "name": "stdout",
     "output_type": "stream",
     "text": [
      "(1, 0.7907093560914835)\n",
      "(1, 0.7975822730471304)\n",
      "(0, 0.30969784551010443)\n",
      "(0, 0.2591802106983149)\n",
      "(1, 0.787769266575129)\n",
      "(0, 0.2382925988054151)\n",
      "(1, 0.8276778300446312)\n",
      "(0, 0.39498292412870106)\n",
      "(1, 0.7875717268550912)\n",
      "(1, 0.7311033457365321)\n",
      "0.6528255163159298\n",
      "<built-in function sum>\n"
     ]
    }
   ],
   "source": [
    "\n",
    "my_nn.initalise_trainingdata(images_test[10:20], labels_test[10:20], 0.0001, 1)\n",
    "my_nn.n2a.weights = [-0.85484332, -0.25137118, -0.53657609,  0.69090954,  0.41767282, -0.01276339, 0.51725959,  0.24410813,  0.02319168]\n",
    "loss = my_nn.calc_loss()\n",
    "print(loss)\n",
    "print(sum)\n"
   ]
  },
  {
   "cell_type": "code",
   "execution_count": 172,
   "metadata": {},
   "outputs": [
    {
     "name": "stdout",
     "output_type": "stream",
     "text": [
      "['00000000000000000100001011', '00000000000000000001100000', '00000000000000000011010001', '00000000000000000101000010', '00000000000000000001111101', '00000000000000000011101100', '00000000000000000001001000', '00000000000000000000110010', '00000000000000000010000111', '00000000000000000010111000']\n",
      "['00000000000000000000101001', '00000000000000000011000111', '00000000000000000011100100', '00000000000000000011010110', '00000000000000000100101010', '00000000000000000010000000', '00000000000000000010111010', '00000000000000000001010010', '00000000000000000001101101', '00000000000000000010010100']\n",
      "['00000000000000000110011000', '00000000000000000011000100', '00000000000000000011110100', '00000000000000000101100111', '00000000000000000100100001', '00000000000000000010010001', '00000000000000000101010001', '00000000000000000011001001', '00000000000000000011100010', '00000000000000000010111001']\n",
      "['00000000000000000110000011', '00000000000000000010001101', '00000000000000000001111111', '00000000000000000010000001', '00000000000000000000111010', '00000000000000000000111011', '00000000000000000101011000', '00000000000000000101110111', '00000000000000000010110011', '00000000000000000011100101']\n",
      "['00000000000000000110000010', '00000000000000000001001000', '00000000000000000100111111', '00000000000000000010011100', '00000000000000000010100010', '00000000000000000000101110', '00000000000000000011101000', '00000000000000000011110011', '00000000000000000011001001', '00000000000000000010001000']\n",
      "['00000000000000000101000100', '00000000000000000011011000', '00000000000000000101010001', '00000000000000000001001101', '00000000000000000001011010', '00000000000000000011100001', '00000000000000000001000000', '00000000000000000000110000', '00000000000000000010000110', '00000000000000000110000010']\n",
      "['00000000000000000110000101', '00000000000000000100001011', '00000000000000000001001011', '00000000000000000001111000', '00000000000000000110000111', '00000000000000000001101110', '00000000000000000011111000', '00000000000000000001110011', '00000000000000000100010100', '00000000000000000011100001']\n",
      "['00000000000000000010001101', '00000000000000000101101011', '00000000000000000011001000', '00000000000000000010100000', '00000000000000000010011010', '00000000000000000100011101', '00000000000000000011101001', '00000000000000000010011000', '00000000000000000101110101', '00000000000000000010110111']\n"
     ]
    }
   ],
   "source": [
    "binary_weights_layer1 = []\n",
    "for i in range(8):\n",
    "    converted = [dec2twocom(x) for x in my_nn.n1[i].weights]\n",
    "    binary_weights_layer1.append(converted)\n",
    "    print(converted)\n",
    "\n",
    "    "
   ]
  },
  {
   "cell_type": "code",
   "execution_count": 186,
   "metadata": {},
   "outputs": [
    {
     "name": "stdout",
     "output_type": "stream",
     "text": [
      "[2. 4. 0. 0. 5. 0. 0. 5. 1. 1.]\n",
      "1\n",
      "None\n",
      "0.7311033457365321\n"
     ]
    }
   ],
   "source": [
    "print(my_nn.input[-4])\n",
    "print(my_nn.labels[-4])\n",
    "print(my_nn.ForwardPassNueralNet(-1))\n",
    "print(my_nn.n2a.act_out)"
   ]
  },
  {
   "cell_type": "code",
   "execution_count": 173,
   "metadata": {},
   "outputs": [
    {
     "name": "stdout",
     "output_type": "stream",
     "text": [
      "['11111111111111001001010010', '11111111111111101111111010', '11111111111111011101101010', '00000000000000101100001101', '00000000000000011010101110', '11111111111111111111001011', '00000000000000100001000110', '00000000000000001111100111', '00000000000000000001011110']\n",
      "[-0.85484332, -0.25137118, -0.53657609, 0.69090954, 0.41767282, -0.01276339, 0.51725959, 0.24410813, 0.02319168]\n"
     ]
    }
   ],
   "source": [
    "binary_weights_layer2 = [dec2twocom(x) for x in my_nn.n2a.weights] \n",
    "print(binary_weights_layer2)\n",
    "print(my_nn.n2a.weights)\n",
    "\n",
    "    "
   ]
  },
  {
   "cell_type": "code",
   "execution_count": 171,
   "metadata": {},
   "outputs": [
    {
     "name": "stdout",
     "output_type": "stream",
     "text": [
      "1.2067153580159475\n",
      "1.2067153580159475\n",
      "1.2067153580159475\n",
      "1.2067153580159475\n",
      "1.2067153580159475\n",
      "1.2067153580159475\n",
      "1.2067153580159475\n",
      "1.2067153580159475\n"
     ]
    }
   ],
   "source": [
    "for j in range(8):\n",
    "    print(my_nn.n1[i].act_out)\n"
   ]
  },
  {
   "cell_type": "code",
   "execution_count": 102,
   "metadata": {},
   "outputs": [
    {
     "ename": "NameError",
     "evalue": "name 'input_nn' is not defined",
     "output_type": "error",
     "traceback": [
      "\u001b[1;31m---------------------------------------------------------------------------\u001b[0m",
      "\u001b[1;31mNameError\u001b[0m                                 Traceback (most recent call last)",
      "Cell \u001b[1;32mIn [102], line 1\u001b[0m\n\u001b[1;32m----> 1\u001b[0m my_nn\u001b[38;5;241m.\u001b[39minitalise_trainingdata(\u001b[43minput_nn\u001b[49m, labels, lr, niter)\n\u001b[0;32m      2\u001b[0m my_nn\u001b[38;5;241m.\u001b[39mgradient_calc()\n\u001b[0;32m      3\u001b[0m my_nn\u001b[38;5;241m.\u001b[39mgradient_descent()\n",
      "\u001b[1;31mNameError\u001b[0m: name 'input_nn' is not defined"
     ]
    }
   ],
   "source": [
    "my_nn.initalise_trainingdata(input_nn, labels, lr, niter)\n",
    "my_nn.gradient_calc()\n",
    "my_nn.gradient_descent()\n",
    "print(my_nn.calc_loss())"
   ]
  },
  {
   "cell_type": "code",
   "execution_count": null,
   "metadata": {},
   "outputs": [
    {
     "data": {
      "text/plain": [
       "9.6873422"
      ]
     },
     "execution_count": 163,
     "metadata": {},
     "output_type": "execute_result"
    }
   ],
   "source": [
    "np.dot([0.69381075, 0.77043915 ,0.15036522 ,0.33325319, 0.39468583, 0.34754608,\n",
    " 0.71602594, 0.99910301, 0.13833847, 0.41147616], [2 ,2 ,4, 5, 5, 4, 1, 0, 0, 1])"
   ]
  }
 ],
 "metadata": {
  "kernelspec": {
   "display_name": "Python 3",
   "language": "python",
   "name": "python3"
  },
  "language_info": {
   "codemirror_mode": {
    "name": "ipython",
    "version": 3
   },
   "file_extension": ".py",
   "mimetype": "text/x-python",
   "name": "python",
   "nbconvert_exporter": "python",
   "pygments_lexer": "ipython3",
   "version": "3.10.7"
  }
 },
 "nbformat": 4,
 "nbformat_minor": 2
}
