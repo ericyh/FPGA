{
 "cells": [
  {
   "cell_type": "code",
   "execution_count": 82,
   "metadata": {},
   "outputs": [],
   "source": [
    "import numpy as np\n",
    "import random"
   ]
  },
  {
   "cell_type": "code",
   "execution_count": 83,
   "metadata": {},
   "outputs": [],
   "source": [
    "class relu_neuron:\n",
    "    def __init__(self, input_size, learning_rate):\n",
    "        self.learning_rate = learning_rate\n",
    "        self.input_size = input_size\n",
    "        self.weights = np.array([np.random.normal(loc = 0.1/input_size, scale = 0.05/input_size) for a in range(input_size)])\n",
    "    def forward(self, input):\n",
    "        self.input = input\n",
    "        self.activation = np.dot(self.weights, input)\n",
    "        self.output = self.activation * int(self.activation >= 0)       # apply relu to activation\n",
    "    def backward(self, prev_grad):\n",
    "        k = int(self.output >= 0) * prev_grad                           # dG/da\n",
    "        self.grad = np.array([k * a for a in self.input])               # dG/dw\n",
    "        self.grad_out = np.array([k * a for a in self.weights])           # dG/dy\n",
    "        self.weights = self.weights - self.learning_rate * self.grad"
   ]
  },
  {
   "cell_type": "code",
   "execution_count": 84,
   "metadata": {},
   "outputs": [],
   "source": [
    "class hardsig_neuron:\n",
    "    def __init__(self, input_size, learning_rate):\n",
    "        self.learning_rate = learning_rate\n",
    "        self.input_size = input_size\n",
    "        self.weights = np.array([np.random.normal(loc = 0.1/input_size, scale = 0.05/input_size) for a in range(input_size)])\n",
    "    def forward(self, input):\n",
    "        self.input = input\n",
    "        self.activation = np.dot(self.weights, input)\n",
    "        if self.activation < -1:                                         # apply hard sigmoid to activation \n",
    "            self.output = 0\n",
    "        elif self.activation < 1:\n",
    "            self.output = (self.activation + 1)/2\n",
    "        else:\n",
    "            self.output = 1\n",
    "        # apply hard sigmoid to activation\n",
    "    def backward(self, prev_grad):\n",
    "        k = int(0 <= self.output < 1) * prev_grad                       # dG/da\n",
    "        self.grad = np.array([k * a for a in self.input])               # dG/dw\n",
    "        self.grad_out = np.array([k * a for a in self.weights])           # dG/dy\n",
    "        self.weights = self.weights - self.learning_rate * self.grad"
   ]
  },
  {
   "cell_type": "code",
   "execution_count": 85,
   "metadata": {},
   "outputs": [],
   "source": [
    "learning_rate = 0.0001\n",
    "layer_size = 8\n",
    "input_size = 9\n",
    "#initialisation\n",
    "n0 = hardsig_neuron(layer_size, learning_rate)\n",
    "layer1 = [relu_neuron(input_size, learning_rate) for i in range(layer_size)]"
   ]
  },
  {
   "cell_type": "code",
   "execution_count": 86,
   "metadata": {},
   "outputs": [],
   "source": [
    "def forward(input, label):\n",
    "    layer1_out = []\n",
    "    for neuron in layer1:\n",
    "        neuron.forward(input)\n",
    "        layer1_out.append(neuron.output)\n",
    "    n0.forward(layer1_out)\n",
    "    return  n0.output, (n0.output - label)**2"
   ]
  },
  {
   "cell_type": "code",
   "execution_count": 87,
   "metadata": {},
   "outputs": [],
   "source": [
    "def backward(output, label):\n",
    "    grad = 2*(output - label)              # dG/dx\n",
    "    n0.backward(grad)                      # dG/dx * dx/da * dG/dw = dG/dw used to update weights\n",
    "    grad = n0.grad_out                     # dG/dx * dx/da * dG/dy = dG/dy\n",
    "    for i in range(len(layer1)):\n",
    "        layer1[i].backward(grad[i])        # dG/dy * dy/da * dG/dw = dG/dw used to update weights"
   ]
  },
  {
   "cell_type": "code",
   "execution_count": 88,
   "metadata": {},
   "outputs": [],
   "source": [
    "def train(images, labels):\n",
    "    losses = []\n",
    "    correct = []\n",
    "    for i in range(len(images)):\n",
    "        image = np.reshape(images[i], -1)\n",
    "        output, loss = forward(image, labels[i])\n",
    "        backward(output, labels[i])\n",
    "        losses.append(loss)\n",
    "        correct.append(int(round(output) == labels[i]))\n",
    "    accuracy = sum(correct) / len(correct)\n",
    "    return losses, correct, accuracy\n"
   ]
  },
  {
   "cell_type": "code",
   "execution_count": 89,
   "metadata": {},
   "outputs": [],
   "source": [
    "# generate images & labels\n",
    "from PIL import Image, ImageDraw, ImageFilter\n",
    "import numpy as np\n",
    "from scipy.ndimage import gaussian_filter\n",
    "import matplotlib.pyplot as plt\n",
    "import skimage.measure\n",
    "import random\n",
    "n = 1000\n",
    "images = []\n",
    "labels = []\n",
    "for i in range(n):\n",
    "    width, height = 81, 81\n",
    "    image = Image.new(\"1\", (width, height), 0)\n",
    "    draw = ImageDraw.Draw(image)\n",
    "    x1, y1 = 0, random.randint(height//3, height//1.5)\n",
    "    x2, y2 = width-1, random.randint(height//3, height//1.5)\n",
    "    draw.line((x1, y1, x2, y2), fill=1 , width=1)\n",
    "    image.save(\"random_line_image.png\")\n",
    "    convolved_image = Image.open(r\"random_line_image.png\").convert('RGB')\n",
    "    rad = 10\n",
    "    convolved_image = convolved_image.filter(ImageFilter.GaussianBlur(radius=rad))   \n",
    "    convolved_image.save(\"convolved_image.png\")\n",
    "    convolved_array = 2.5*rad*np.array(convolved_image.convert('L'))\n",
    "    small_array = skimage.measure.block_reduce(convolved_array, (27,27), np.average)\n",
    "    mean = 0\n",
    "    var = 256\n",
    "    sigma = var ** 0.5\n",
    "    gauss = np.random.normal(mean, sigma, small_array.shape)\n",
    "    gauss = gauss.reshape(small_array.shape)\n",
    "    noisy = small_array + gauss\n",
    "    if random.randint(0,1) == 0:\n",
    "        images.append(np.array(noisy))\n",
    "        labels.append(1)\n",
    "    else:\n",
    "        images.append(np.transpose(np.array(noisy)))\n",
    "        labels.append(0)\n",
    "images = np.array(images)\n",
    "labels = np.array(labels)"
   ]
  },
  {
   "cell_type": "code",
   "execution_count": 90,
   "metadata": {},
   "outputs": [],
   "source": [
    "batches = 100\n",
    "batch_size = np.floor(n/batches)\n",
    "accuracies = []\n",
    "for i in range(batches):\n",
    "    a, b, c = train(images[int(i*batch_size):int((i+1)*batch_size)], labels[int(i*batch_size):int((i+1)*batch_size)])\n",
    "    accuracies.append(c)"
   ]
  },
  {
   "cell_type": "code",
   "execution_count": 93,
   "metadata": {},
   "outputs": [
    {
     "data": {
      "text/plain": [
       "[<matplotlib.lines.Line2D at 0x12754d910>]"
      ]
     },
     "execution_count": 93,
     "metadata": {},
     "output_type": "execute_result"
    },
    {
     "data": {
      "image/png": "[encoded data removed]",
      "text/plain": [
       "<Figure size 640x480 with 1 Axes>"
      ]
     },
     "metadata": {},
     "output_type": "display_data"
    }
   ],
   "source": [
    "plt.plot(accuracies)"
   ]
  },
  {
   "cell_type": "code",
   "execution_count": 100,
   "metadata": {},
   "outputs": [
    {
     "name": "stdout",
     "output_type": "stream",
     "text": [
      "1 1\n"
     ]
    }
   ],
   "source": [
    "i = random.randint(0,1000)\n",
    "output, loss = forward(np.reshape(images[i], -1), labels[i])\n",
    "print(output, labels[i])"
   ]
  }
 ],
 "metadata": {
  "kernelspec": {
   "display_name": "base",
   "language": "python",
   "name": "python3"
  },
  "language_info": {
   "codemirror_mode": {
    "name": "ipython",
    "version": 3
   },
   "file_extension": ".py",
   "mimetype": "text/x-python",
   "name": "python",
   "nbconvert_exporter": "python",
   "pygments_lexer": "ipython3",
   "version": "3.11.5"
  }
 },
 "nbformat": 4,
 "nbformat_minor": 2
}
