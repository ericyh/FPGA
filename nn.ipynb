{
 "cells": [
  {
   "cell_type": "code",
   "execution_count": 485,
   "metadata": {},
   "outputs": [],
   "source": [
    "import numpy as np\n",
    "import random"
   ]
  },
  {
   "cell_type": "code",
   "execution_count": 486,
   "metadata": {},
   "outputs": [],
   "source": [
    "class relu_neuron:\n",
    "    def __init__(self, input_size, learning_rate):\n",
    "        self.learning_rate = learning_rate\n",
    "        self.input_size = input_size\n",
    "        self.weights = np.array([np.random.normal(loc = 0.1/input_size, scale = 0.05/input_size) for a in range(input_size)])\n",
    "    def forward(self, input):\n",
    "        self.input = input\n",
    "        self.activation = np.dot(self.weights, input)\n",
    "        self.output = self.activation * int(self.activation >= 0)       # apply relu to activation\n",
    "    def backward(self, prev_grad):\n",
    "        k = int(self.output >= 0) * prev_grad                           # dG/da\n",
    "        self.grad = np.array([k * a for a in self.input])               # dG/dw\n",
    "        self.grad_out = np.array([k * a for a in self.weights])           # dG/dy\n",
    "        self.weights = self.weights - self.learning_rate * self.grad"
   ]
  },
  {
   "cell_type": "code",
   "execution_count": 487,
   "metadata": {},
   "outputs": [],
   "source": [
    "class hardsig_neuron:\n",
    "    def __init__(self, input_size, learning_rate):\n",
    "        self.learning_rate = learning_rate\n",
    "        self.input_size = input_size\n",
    "        self.weights = np.array([np.random.normal(loc = 0.1/input_size, scale = 0.05/input_size) for a in range(input_size)])\n",
    "    def forward(self, input):\n",
    "        self.input = input\n",
    "        self.activation = np.dot(self.weights, input)\n",
    "        if self.activation < -1:                                         # apply hard sigmoid to activation \n",
    "            self.output = 0\n",
    "        elif self.activation < 1:\n",
    "            self.output = (self.activation + 1)/2\n",
    "        else:\n",
    "            self.output = 1\n",
    "        # apply hard sigmoid to activation\n",
    "    def backward(self, prev_grad):\n",
    "        k = int(0 <= self.output < 1) * prev_grad                       # dG/da\n",
    "        self.grad = np.array([k * a for a in self.input])               # dG/dw\n",
    "        self.grad_out = np.array([k * a for a in self.weights])           # dG/dy\n",
    "        self.weights = self.weights - self.learning_rate * self.grad"
   ]
  },
  {
   "cell_type": "code",
   "execution_count": 488,
   "metadata": {},
   "outputs": [],
   "source": [
    "learning_rate = 0.0001\n",
    "layer_size = 8\n",
    "input_size = 9\n",
    "#initialisation\n",
    "n0 = hardsig_neuron(layer_size, learning_rate)\n",
    "layer1 = [relu_neuron(input_size, learning_rate) for i in range(layer_size)]"
   ]
  },
  {
   "cell_type": "code",
   "execution_count": 489,
   "metadata": {},
   "outputs": [],
   "source": [
    "def forward(input, label):\n",
    "    layer1_out = []\n",
    "    for neuron in layer1:\n",
    "        neuron.forward(input)\n",
    "        layer1_out.append(neuron.output)\n",
    "    n0.forward(layer1_out)\n",
    "    return  n0.output, (n0.output - label)**2"
   ]
  },
  {
   "cell_type": "code",
   "execution_count": 490,
   "metadata": {},
   "outputs": [],
   "source": [
    "def backward(output, label):\n",
    "    grad = 2*(output - label)              # dG/dx\n",
    "    n0.backward(grad)                      # dG/dx * dx/da * dG/dw = dG/dw used to update weights\n",
    "    grad = n0.grad_out                     # dG/dx * dx/da * dG/dy = dG/dy\n",
    "    for i in range(len(layer1)):\n",
    "        layer1[i].backward(grad[i])        # dG/dy * dy/da * dG/dw = dG/dw used to update weights"
   ]
  },
  {
   "cell_type": "code",
   "execution_count": 491,
   "metadata": {},
   "outputs": [],
   "source": [
    "def train(images, labels):\n",
    "    losses = []\n",
    "    correct = []\n",
    "    for i in range(len(images)):\n",
    "        image = np.reshape(images[i], -1)\n",
    "        output, loss = forward(image, labels[i])\n",
    "        backward(output, labels[i])\n",
    "        losses.append(loss)\n",
    "        correct.append(int(round(output) == labels[i]))\n",
    "    accuracy = sum(correct) / len(correct)\n",
    "    return losses, correct, accuracy"
   ]
  },
  {
   "cell_type": "code",
   "execution_count": 492,
   "metadata": {},
   "outputs": [],
   "source": [
    "# generate images & labels\n",
    "from PIL import Image, ImageDraw, ImageFilter\n",
    "import numpy as np\n",
    "from scipy.ndimage import gaussian_filter\n",
    "import matplotlib.pyplot as plt\n",
    "import skimage.measure\n",
    "import random\n",
    "n = 1000\n",
    "images = []\n",
    "labels = []\n",
    "for i in range(n):\n",
    "    width, height = 81, 81\n",
    "    image = Image.new(\"1\", (width, height), 0)\n",
    "    draw = ImageDraw.Draw(image)\n",
    "    x1, y1 = 0, random.randint(height//3, height//1.5)\n",
    "    x2, y2 = width-1, random.randint(height//3, height//1.5)\n",
    "    draw.line((x1, y1, x2, y2), fill=1 , width=1)\n",
    "    image.save(\"random_line_image.png\")\n",
    "    convolved_image = Image.open(r\"random_line_image.png\").convert('RGB')\n",
    "    rad = 10\n",
    "    convolved_image = convolved_image.filter(ImageFilter.GaussianBlur(radius=rad))   \n",
    "    convolved_image.save(\"convolved_image.png\")\n",
    "    convolved_array = 2.5*rad*np.array(convolved_image.convert('L'))\n",
    "    small_array = skimage.measure.block_reduce(convolved_array, (27,27), np.average)\n",
    "    mean = 0\n",
    "    var = 256\n",
    "    sigma = var ** 0.5\n",
    "    gauss = np.random.normal(mean, sigma, small_array.shape)\n",
    "    gauss = gauss.reshape(small_array.shape)\n",
    "    noisy = small_array + gauss\n",
    "    if random.randint(0,1) == 0:\n",
    "        images.append(np.array(noisy))\n",
    "        labels.append(1)\n",
    "    else:\n",
    "        images.append(np.transpose(np.array(noisy)))\n",
    "        labels.append(0)\n",
    "images = np.array(images)\n",
    "labels = np.array(labels)"
   ]
  },
  {
   "cell_type": "code",
   "execution_count": 493,
   "metadata": {},
   "outputs": [],
   "source": [
    "batches = 100\n",
    "batch_size = np.floor(n/batches)\n",
    "accuracies = []\n",
    "for i in range(batches):\n",
    "    a, b, c = train(images[int(i*batch_size):int((i+1)*batch_size)], labels[int(i*batch_size):int((i+1)*batch_size)])\n",
    "    accuracies.append(c)"
   ]
  },
  {
   "cell_type": "code",
   "execution_count": 494,
   "metadata": {},
   "outputs": [
    {
     "data": {
      "text/plain": [
       "[<matplotlib.lines.Line2D at 0x137900190>]"
      ]
     },
     "execution_count": 494,
     "metadata": {},
     "output_type": "execute_result"
    },
    {
     "data": {
      "image/png": "[encoded data removed]",
      "text/plain": [
       "<Figure size 640x480 with 1 Axes>"
      ]
     },
     "metadata": {},
     "output_type": "display_data"
    }
   ],
   "source": [
    "plt.plot(accuracies)"
   ]
  },
  {
   "cell_type": "code",
   "execution_count": 495,
   "metadata": {},
   "outputs": [
    {
     "name": "stdout",
     "output_type": "stream",
     "text": [
      "0 0\n"
     ]
    }
   ],
   "source": [
    "i = random.randint(0,1000)\n",
    "output, loss = forward(np.reshape(images[i], -1), labels[i])\n",
    "print(output, labels[i])"
   ]
  },
  {
   "cell_type": "code",
   "execution_count": 496,
   "metadata": {},
   "outputs": [
    {
     "name": "stdout",
     "output_type": "stream",
     "text": [
      "8\n"
     ]
    }
   ],
   "source": [
    "print(len(n0.weights))"
   ]
  },
  {
   "cell_type": "code",
   "execution_count": 497,
   "metadata": {},
   "outputs": [
    {
     "name": "stdout",
     "output_type": "stream",
     "text": [
      "hard_sig neuron weights [ 0.03306608 -0.06702068 -0.01163865  0.01629967 -0.01436207  0.02377248\n",
      "  0.0546618   0.02711754]\n",
      "relu neuron weights [ 0.01658402 -0.01843679  0.02014468  0.02530407  0.00320654  0.0173337\n",
      "  0.01665796 -0.00763648  0.0012969 ]\n",
      "None\n",
      "relu neuron weights [ 0.01653374  0.03722216  0.01911635 -0.02077744  0.01045496 -0.02809809\n",
      "  0.01549362  0.04880826  0.0125557 ]\n",
      "None\n",
      "relu neuron weights [0.00772327 0.01724321 0.01045974 0.00956066 0.01421353 0.00432768\n",
      " 0.00901118 0.00998215 0.00244909]\n",
      "None\n",
      "relu neuron weights [ 0.00624009 -0.0044792  -0.00449882  0.01126995  0.0062955   0.02370598\n",
      "  0.00731724  0.00125383  0.01852905]\n",
      "None\n",
      "relu neuron weights [0.00513748 0.01847366 0.00555777 0.00718693 0.02104721 0.00404278\n",
      " 0.00591591 0.01301414 0.00789195]\n",
      "None\n",
      "relu neuron weights [ 0.01705244 -0.0052332   0.01230216  0.01814398  0.00523721  0.02403081\n",
      "  0.0188182  -0.00659575  0.01085116]\n",
      "None\n",
      "relu neuron weights [ 0.01049159 -0.03426547  0.01125129  0.03783374 -0.00154742  0.03248481\n",
      "  0.00589604 -0.02032527  0.00860609]\n",
      "None\n",
      "relu neuron weights [ 5.80594713e-03 -7.55655528e-03 -4.07299660e-05  2.47323768e-02\n",
      "  3.50537545e-04  2.45199114e-02  1.07479265e-02 -2.96019195e-03\n",
      "  1.19429998e-02]\n",
      "None\n"
     ]
    }
   ],
   "source": [
    "print(\"hard_sig neuron weights\",n0.weights)\n",
    "for neuron in layer1:\n",
    "    print(print(\"relu neuron weights\",neuron.weights))"
   ]
  },
  {
   "cell_type": "code",
   "execution_count": 498,
   "metadata": {},
   "outputs": [
    {
     "name": "stdout",
     "output_type": "stream",
     "text": [
      "-1\n"
     ]
    }
   ],
   "source": [
    "print(int(bin(-1),2))"
   ]
  },
  {
   "cell_type": "code",
   "execution_count": 499,
   "metadata": {},
   "outputs": [
    {
     "name": "stdout",
     "output_type": "stream",
     "text": [
      "\n"
     ]
    }
   ],
   "source": [
    "print()"
   ]
  },
  {
   "cell_type": "code",
   "execution_count": 501,
   "metadata": {},
   "outputs": [],
   "source": [
    "n0weights = [bin(int((2**12)*a)) for a in n0.weights]\n",
    "layer1weights = [[bin(int((2**12)*weight)) for weight in neuron.weights] for neuron in layer1]"
   ]
  },
  {
   "cell_type": "code",
   "execution_count": 505,
   "metadata": {},
   "outputs": [],
   "source": [
    "for i in range(len(n0weights)):\n",
    "    if n0weights[i][0] == \"-\":\n",
    "        n0weights[i] = bin(((2**26-1) ^ int(n0weights[i][3:])) + 1)\n",
    "\n",
    "for i in range(len(layer1weights)):\n",
    "    for j in range(len(layer1weights[i])):\n",
    "            if layer1weights[i][j][0] == \"-\":\n",
    "                layer1weights[i][j] = bin(((2**26-1) ^ int(layer1weights[i][j][3:])) + 1)\n"
   ]
  },
  {
   "cell_type": "code",
   "execution_count": 506,
   "metadata": {},
   "outputs": [
    {
     "name": "stdout",
     "output_type": "stream",
     "text": [
      "['0b10000111', '0b110000010011111011111100110', '0b11111111100111010100001001', '0b1000010', '0b11111111100100111001011110', '0b1100001', '0b11011111', '0b1101111']\n",
      "[['0b1000011', '0b11111100001011100111001101', '0b1010010', '0b1100111', '0b1101', '0b1000110', '0b1000100', '0b11111111111101010010011001', '0b101'], ['0b1000011', '0b10011000', '0b1001110', '0b11111100001001011001001011', '0b101010', '0b11111011110001000000000101', '0b111111', '0b11000111', '0b110011'], ['0b11111', '0b1000110', '0b101010', '0b100111', '0b111010', '0b10001', '0b100100', '0b101000', '0b1010'], ['0b11001', '0b11111111111101100011100110', '0b11111111111101100011100110', '0b101110', '0b11001', '0b1100001', '0b11101', '0b101', '0b1001011'], ['0b10101', '0b1001011', '0b10110', '0b11101', '0b1010110', '0b10000', '0b11000', '0b110101', '0b100000'], ['0b1000101', '0b11111111111101100010001011', '0b110010', '0b1001010', '0b10101', '0b1100010', '0b1001101', '0b11111111111101010011111101', '0b101100'], ['0b101010', '0b11011001110110010100110100', '0b101110', '0b10011010', '0b11111111111111111110010010', '0b10000101', '0b11000', '0b11111100001001011010100101', '0b100011'], ['0b10111', '0b11111111111101010010011010', '0b0', '0b1100101', '0b1', '0b1100100', '0b101100', '0b11111111111111101110110100', '0b110000']]\n"
     ]
    }
   ],
   "source": [
    "print(n0weights)\n",
    "print(layer1weights)"
   ]
  },
  {
   "cell_type": "code",
   "execution_count": 504,
   "metadata": {},
   "outputs": [
    {
     "name": "stdout",
     "output_type": "stream",
     "text": [
      "0b10000111\n",
      "0b110000010011111011111100110\n",
      "0b11111111100111010100001001\n",
      "0b1000010\n",
      "0b11111111100100111001011110\n",
      "0b1100001\n",
      "0b11011111\n",
      "0b1101111\n"
     ]
    }
   ],
   "source": [
    "for i in n0weights:\n",
    "    print(i)"
   ]
  },
  {
   "cell_type": "code",
   "execution_count": null,
   "metadata": {},
   "outputs": [],
   "source": []
  }
 ],
 "metadata": {
  "kernelspec": {
   "display_name": "base",
   "language": "python",
   "name": "python3"
  },
  "language_info": {
   "codemirror_mode": {
    "name": "ipython",
    "version": 3
   },
   "file_extension": ".py",
   "mimetype": "text/x-python",
   "name": "python",
   "nbconvert_exporter": "python",
   "pygments_lexer": "ipython3",
   "version": "3.11.5"
  }
 },
 "nbformat": 4,
 "nbformat_minor": 2
}
