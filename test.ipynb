{
 "cells": [
  {
   "cell_type": "code",
   "execution_count": 14,
   "metadata": {},
   "outputs": [],
   "source": [
    "w1 = \"0b1100000100111\"\n",
    "w2 = \"0b0111111110011\"\n",
    "w3 = \"0b1111111110010\"\n",
    "w4 = \"0b0111110000101\"\n",
    "w5 = \"0b0111111111110\"\n",
    "w6 = \"0b1111110000100\"\n",
    "w7 = \"0b1111111111110\"\n",
    "w8 = \"0b1101100111011\"\n",
    "w9 = \"0b0111111111111\"\n",
    "\n",
    "w = [w1, w2, w3, w4, w5, w6, w7, w8, w9]"
   ]
  },
  {
   "cell_type": "code",
   "execution_count": 15,
   "metadata": {},
   "outputs": [],
   "source": [
    "for i in range(len(w)):\n",
    "    if w[i][2] == \"1\":\n",
    "        w[i] = int(w[i][3:] , 2) / (2**12) * (-1)\n",
    "    else:\n",
    "        w[i] = int(w[i][3:] , 2) / (2**12)"
   ]
  },
  {
   "cell_type": "code",
   "execution_count": 16,
   "metadata": {},
   "outputs": [],
   "source": [
    "x1 = \"0b101\"\n",
    "x2 = \"0b111\"\n",
    "x3 = \"0b100\"\n",
    "x4 = \"0b001\"\n",
    "x5 = \"0b011\"\n",
    "x6 = \"0b010\"\n",
    "x7 = \"0b101\"\n",
    "x8 = \"0b000\"\n",
    "x9 = \"0b110\"\n",
    "\n",
    "x = [x1, x2, x3, x4, x5, x6, x7, x8, x9]"
   ]
  },
  {
   "cell_type": "code",
   "execution_count": 17,
   "metadata": {},
   "outputs": [],
   "source": [
    "for i in range(len(x)):\n",
    "    x[i] = int(x[i][2:] , 2)"
   ]
  },
  {
   "cell_type": "code",
   "execution_count": 18,
   "metadata": {},
   "outputs": [
    {
     "name": "stdout",
     "output_type": "stream",
     "text": [
      "[5, 7, 4, 1, 3, 2, 5, 0, 6]\n"
     ]
    }
   ],
   "source": [
    "print(x)"
   ]
  },
  {
   "cell_type": "code",
   "execution_count": 19,
   "metadata": {},
   "outputs": [
    {
     "name": "stdout",
     "output_type": "stream",
     "text": [
      "3.473876953125\n"
     ]
    }
   ],
   "source": [
    "s = 0\n",
    "for i in range(9):\n",
    "    s += x[i] * w[i]\n",
    "\n",
    "print(s)"
   ]
  },
  {
   "cell_type": "code",
   "execution_count": 22,
   "metadata": {},
   "outputs": [
    {
     "name": "stdout",
     "output_type": "stream",
     "text": [
      "3.473876953125\n",
      "0b110111100101010\n"
     ]
    }
   ],
   "source": [
    "o = 0\n",
    "if s > 0:\n",
    "    o = s\n",
    "else:\n",
    "    o = 0\n",
    "\n",
    "print(o)\n",
    "print(bin(int(o*(2**13))))"
   ]
  }
 ],
 "metadata": {
  "kernelspec": {
   "display_name": "base",
   "language": "python",
   "name": "python3"
  },
  "language_info": {
   "codemirror_mode": {
    "name": "ipython",
    "version": 3
   },
   "file_extension": ".py",
   "mimetype": "text/x-python",
   "name": "python",
   "nbconvert_exporter": "python",
   "pygments_lexer": "ipython3",
   "version": "3.11.5"
  }
 },
 "nbformat": 4,
 "nbformat_minor": 2
}
